{
  "nbformat": 4,
  "nbformat_minor": 0,
  "metadata": {
    "colab": {
      "provenance": [],
      "collapsed_sections": []
    },
    "kernelspec": {
      "name": "python3",
      "display_name": "Python 3"
    }
  },
  "cells": [
    {
      "cell_type": "markdown",
      "metadata": {
        "id": "3cbb7fRy-eyr"
      },
      "source": [
        "# Artificial Neural Network"
      ]
    },
    {
      "cell_type": "markdown",
      "metadata": {
        "id": "8sNDnxE2-pwE"
      },
      "source": [
        "### Importing the libraries"
      ]
    },
    {
      "cell_type": "code",
      "metadata": {
        "id": "lxChR1Rk-umf"
      },
      "source": [
        "import numpy as np\n",
        "import pandas as pd\n",
        "import tensorflow as tf"
      ],
      "execution_count": 12,
      "outputs": []
    },
    {
      "cell_type": "code",
      "metadata": {
        "id": "uBTqR3nacj0e",
        "colab": {
          "base_uri": "https://localhost:8080/",
          "height": 35
        },
        "outputId": "a893829a-a42b-42ba-a25f-b7eec88da117"
      },
      "source": [
        "tf.__version__"
      ],
      "execution_count": 13,
      "outputs": [
        {
          "output_type": "execute_result",
          "data": {
            "text/plain": [
              "'2.8.2'"
            ],
            "application/vnd.google.colaboratory.intrinsic+json": {
              "type": "string"
            }
          },
          "metadata": {},
          "execution_count": 13
        }
      ]
    },
    {
      "cell_type": "markdown",
      "metadata": {
        "id": "AG3FQEch-yuA"
      },
      "source": [
        "## Part 1 - Data Preprocessing"
      ]
    },
    {
      "cell_type": "markdown",
      "metadata": {
        "id": "-4zq8Mza_D9O"
      },
      "source": [
        "### Importing the dataset"
      ]
    },
    {
      "cell_type": "code",
      "metadata": {
        "id": "B9CV13Co_HHM"
      },
      "source": [
        "dataset = pd.read_excel('Folds5x2_pp.xlsx')\n",
        "X = dataset.iloc[:, :-1].values\n",
        "y = dataset.iloc[:, -1].values"
      ],
      "execution_count": 14,
      "outputs": []
    },
    {
      "cell_type": "markdown",
      "metadata": {
        "id": "VC6omXel_Up0"
      },
      "source": [
        "### Splitting the dataset into the Training set and Test set"
      ]
    },
    {
      "cell_type": "code",
      "metadata": {
        "id": "L5edeb2r_agx"
      },
      "source": [
        "from sklearn.model_selection import train_test_split\n",
        "X_train, X_test, y_train, y_test = train_test_split(X, y, test_size = 0.2)"
      ],
      "execution_count": 15,
      "outputs": []
    },
    {
      "cell_type": "markdown",
      "metadata": {
        "id": "_mSLlAT9_eyI"
      },
      "source": [
        "## Part 2 - Building the ANN"
      ]
    },
    {
      "cell_type": "markdown",
      "metadata": {
        "id": "CsBULd_f_wLY"
      },
      "source": [
        "### Initializing the ANN"
      ]
    },
    {
      "cell_type": "code",
      "metadata": {
        "id": "J6Hd97Ls__Nz"
      },
      "source": [
        "ann = tf.keras.models.Sequential()"
      ],
      "execution_count": 16,
      "outputs": []
    },
    {
      "cell_type": "markdown",
      "metadata": {
        "id": "iitAFJS_ABUn"
      },
      "source": [
        "### Adding the input layer and the first hidden layer"
      ]
    },
    {
      "cell_type": "code",
      "metadata": {
        "id": "ksO_Vv40AHix"
      },
      "source": [
        "ann.add(tf.keras.layers.Dense(units=6, activation='relu'))"
      ],
      "execution_count": 17,
      "outputs": []
    },
    {
      "cell_type": "markdown",
      "metadata": {
        "id": "-lb4kK_wAKbs"
      },
      "source": [
        "### Adding the second hidden layer"
      ]
    },
    {
      "cell_type": "code",
      "metadata": {
        "id": "c2357OqEAQOQ"
      },
      "source": [
        "ann.add(tf.keras.layers.Dense(units=6, activation='relu'))"
      ],
      "execution_count": 18,
      "outputs": []
    },
    {
      "cell_type": "markdown",
      "metadata": {
        "id": "jwMOmKb3AdBY"
      },
      "source": [
        "### Adding the output layer"
      ]
    },
    {
      "cell_type": "code",
      "metadata": {
        "id": "YFATpzsUAkLL"
      },
      "source": [
        "ann.add(tf.keras.layers.Dense(units=1))"
      ],
      "execution_count": 19,
      "outputs": []
    },
    {
      "cell_type": "markdown",
      "metadata": {
        "id": "fq7e4fF6A1yy"
      },
      "source": [
        "## Part 3 - Training the ANN"
      ]
    },
    {
      "cell_type": "markdown",
      "metadata": {
        "id": "qDeylAs2An25"
      },
      "source": [
        "### Compiling the ANN"
      ]
    },
    {
      "cell_type": "code",
      "metadata": {
        "id": "pesgbWlCAtB4"
      },
      "source": [
        "ann.compile(optimizer = 'adam', loss = 'mean_squared_error')"
      ],
      "execution_count": 20,
      "outputs": []
    },
    {
      "cell_type": "markdown",
      "metadata": {
        "id": "YjVuiybYOo7r"
      },
      "source": [
        "### Training the ANN model on the Training set"
      ]
    },
    {
      "cell_type": "code",
      "metadata": {
        "id": "c_vV-tiiA5zn",
        "colab": {
          "base_uri": "https://localhost:8080/"
        },
        "outputId": "a50ff50b-59bf-451c-a0cf-6c339e3bf02f"
      },
      "source": [
        "ann.fit(X_train, y_train, batch_size = 32, epochs = 100)"
      ],
      "execution_count": 21,
      "outputs": [
        {
          "output_type": "stream",
          "name": "stdout",
          "text": [
            "Epoch 1/100\n",
            "240/240 [==============================] - 1s 2ms/step - loss: 81720.2656\n",
            "Epoch 2/100\n",
            "240/240 [==============================] - 0s 2ms/step - loss: 687.9225\n",
            "Epoch 3/100\n",
            "240/240 [==============================] - 0s 2ms/step - loss: 647.2415\n",
            "Epoch 4/100\n",
            "240/240 [==============================] - 0s 2ms/step - loss: 597.5226\n",
            "Epoch 5/100\n",
            "240/240 [==============================] - 0s 2ms/step - loss: 541.3632\n",
            "Epoch 6/100\n",
            "240/240 [==============================] - 0s 2ms/step - loss: 484.9809\n",
            "Epoch 7/100\n",
            "240/240 [==============================] - 0s 2ms/step - loss: 424.9825\n",
            "Epoch 8/100\n",
            "240/240 [==============================] - 0s 2ms/step - loss: 365.8752\n",
            "Epoch 9/100\n",
            "240/240 [==============================] - 0s 2ms/step - loss: 309.8782\n",
            "Epoch 10/100\n",
            "240/240 [==============================] - 0s 2ms/step - loss: 255.6575\n",
            "Epoch 11/100\n",
            "240/240 [==============================] - 0s 2ms/step - loss: 206.8862\n",
            "Epoch 12/100\n",
            "240/240 [==============================] - 0s 2ms/step - loss: 163.7045\n",
            "Epoch 13/100\n",
            "240/240 [==============================] - 0s 1ms/step - loss: 126.9087\n",
            "Epoch 14/100\n",
            "240/240 [==============================] - 0s 2ms/step - loss: 96.6254\n",
            "Epoch 15/100\n",
            "240/240 [==============================] - 0s 2ms/step - loss: 72.4536\n",
            "Epoch 16/100\n",
            "240/240 [==============================] - 0s 2ms/step - loss: 55.4120\n",
            "Epoch 17/100\n",
            "240/240 [==============================] - 0s 2ms/step - loss: 43.3079\n",
            "Epoch 18/100\n",
            "240/240 [==============================] - 0s 1ms/step - loss: 35.7622\n",
            "Epoch 19/100\n",
            "240/240 [==============================] - 0s 2ms/step - loss: 31.3134\n",
            "Epoch 20/100\n",
            "240/240 [==============================] - 0s 2ms/step - loss: 28.9743\n",
            "Epoch 21/100\n",
            "240/240 [==============================] - 0s 2ms/step - loss: 27.6310\n",
            "Epoch 22/100\n",
            "240/240 [==============================] - 0s 2ms/step - loss: 27.1800\n",
            "Epoch 23/100\n",
            "240/240 [==============================] - 0s 2ms/step - loss: 26.8454\n",
            "Epoch 24/100\n",
            "240/240 [==============================] - 0s 2ms/step - loss: 26.3898\n",
            "Epoch 25/100\n",
            "240/240 [==============================] - 0s 2ms/step - loss: 26.9014\n",
            "Epoch 26/100\n",
            "240/240 [==============================] - 0s 2ms/step - loss: 26.3980\n",
            "Epoch 27/100\n",
            "240/240 [==============================] - 0s 2ms/step - loss: 26.2992\n",
            "Epoch 28/100\n",
            "240/240 [==============================] - 0s 2ms/step - loss: 26.5710\n",
            "Epoch 29/100\n",
            "240/240 [==============================] - 0s 2ms/step - loss: 26.3844\n",
            "Epoch 30/100\n",
            "240/240 [==============================] - 0s 2ms/step - loss: 27.0557\n",
            "Epoch 31/100\n",
            "240/240 [==============================] - 0s 2ms/step - loss: 26.5266\n",
            "Epoch 32/100\n",
            "240/240 [==============================] - 0s 2ms/step - loss: 27.0326\n",
            "Epoch 33/100\n",
            "240/240 [==============================] - 0s 2ms/step - loss: 27.3858\n",
            "Epoch 34/100\n",
            "240/240 [==============================] - 0s 2ms/step - loss: 26.7711\n",
            "Epoch 35/100\n",
            "240/240 [==============================] - 0s 2ms/step - loss: 26.8739\n",
            "Epoch 36/100\n",
            "240/240 [==============================] - 0s 2ms/step - loss: 27.4495\n",
            "Epoch 37/100\n",
            "240/240 [==============================] - 0s 2ms/step - loss: 27.7122\n",
            "Epoch 38/100\n",
            "240/240 [==============================] - 0s 2ms/step - loss: 27.3783\n",
            "Epoch 39/100\n",
            "240/240 [==============================] - 0s 2ms/step - loss: 27.0450\n",
            "Epoch 40/100\n",
            "240/240 [==============================] - 0s 2ms/step - loss: 26.8264\n",
            "Epoch 41/100\n",
            "240/240 [==============================] - 0s 2ms/step - loss: 26.8633\n",
            "Epoch 42/100\n",
            "240/240 [==============================] - 0s 2ms/step - loss: 27.1835\n",
            "Epoch 43/100\n",
            "240/240 [==============================] - 0s 2ms/step - loss: 27.3386\n",
            "Epoch 44/100\n",
            "240/240 [==============================] - 0s 2ms/step - loss: 27.6930\n",
            "Epoch 45/100\n",
            "240/240 [==============================] - 0s 1ms/step - loss: 27.7258\n",
            "Epoch 46/100\n",
            "240/240 [==============================] - 0s 2ms/step - loss: 26.9690\n",
            "Epoch 47/100\n",
            "240/240 [==============================] - 0s 2ms/step - loss: 27.7766\n",
            "Epoch 48/100\n",
            "240/240 [==============================] - 0s 2ms/step - loss: 26.9473\n",
            "Epoch 49/100\n",
            "240/240 [==============================] - 0s 2ms/step - loss: 27.3871\n",
            "Epoch 50/100\n",
            "240/240 [==============================] - 0s 2ms/step - loss: 27.3432\n",
            "Epoch 51/100\n",
            "240/240 [==============================] - 0s 2ms/step - loss: 26.9586\n",
            "Epoch 52/100\n",
            "240/240 [==============================] - 0s 2ms/step - loss: 27.5409\n",
            "Epoch 53/100\n",
            "240/240 [==============================] - 0s 1ms/step - loss: 26.9962\n",
            "Epoch 54/100\n",
            "240/240 [==============================] - 0s 2ms/step - loss: 27.5105\n",
            "Epoch 55/100\n",
            "240/240 [==============================] - 0s 2ms/step - loss: 28.9643\n",
            "Epoch 56/100\n",
            "240/240 [==============================] - 0s 2ms/step - loss: 27.5279\n",
            "Epoch 57/100\n",
            "240/240 [==============================] - 0s 2ms/step - loss: 27.5543\n",
            "Epoch 58/100\n",
            "240/240 [==============================] - 0s 2ms/step - loss: 27.6686\n",
            "Epoch 59/100\n",
            "240/240 [==============================] - 0s 2ms/step - loss: 27.3084\n",
            "Epoch 60/100\n",
            "240/240 [==============================] - 0s 2ms/step - loss: 27.2672\n",
            "Epoch 61/100\n",
            "240/240 [==============================] - 0s 2ms/step - loss: 26.8643\n",
            "Epoch 62/100\n",
            "240/240 [==============================] - 0s 2ms/step - loss: 27.5249\n",
            "Epoch 63/100\n",
            "240/240 [==============================] - 0s 2ms/step - loss: 27.3672\n",
            "Epoch 64/100\n",
            "240/240 [==============================] - 0s 2ms/step - loss: 27.4426\n",
            "Epoch 65/100\n",
            "240/240 [==============================] - 0s 2ms/step - loss: 27.4849\n",
            "Epoch 66/100\n",
            "240/240 [==============================] - 0s 2ms/step - loss: 27.8314\n",
            "Epoch 67/100\n",
            "240/240 [==============================] - 0s 2ms/step - loss: 27.0222\n",
            "Epoch 68/100\n",
            "240/240 [==============================] - 0s 2ms/step - loss: 28.0150\n",
            "Epoch 69/100\n",
            "240/240 [==============================] - 1s 2ms/step - loss: 27.3439\n",
            "Epoch 70/100\n",
            "240/240 [==============================] - 0s 2ms/step - loss: 26.9602\n",
            "Epoch 71/100\n",
            "240/240 [==============================] - 1s 2ms/step - loss: 26.8791\n",
            "Epoch 72/100\n",
            "240/240 [==============================] - 1s 2ms/step - loss: 28.6367\n",
            "Epoch 73/100\n",
            "240/240 [==============================] - 0s 2ms/step - loss: 27.3279\n",
            "Epoch 74/100\n",
            "240/240 [==============================] - 0s 2ms/step - loss: 27.1802\n",
            "Epoch 75/100\n",
            "240/240 [==============================] - 0s 2ms/step - loss: 27.4407\n",
            "Epoch 76/100\n",
            "240/240 [==============================] - 0s 2ms/step - loss: 27.3872\n",
            "Epoch 77/100\n",
            "240/240 [==============================] - 0s 2ms/step - loss: 27.3933\n",
            "Epoch 78/100\n",
            "240/240 [==============================] - 0s 2ms/step - loss: 26.7129\n",
            "Epoch 79/100\n",
            "240/240 [==============================] - 0s 2ms/step - loss: 27.5082\n",
            "Epoch 80/100\n",
            "240/240 [==============================] - 0s 2ms/step - loss: 27.1686\n",
            "Epoch 81/100\n",
            "240/240 [==============================] - 0s 2ms/step - loss: 27.8147\n",
            "Epoch 82/100\n",
            "240/240 [==============================] - 0s 2ms/step - loss: 26.6170\n",
            "Epoch 83/100\n",
            "240/240 [==============================] - 0s 2ms/step - loss: 26.6234\n",
            "Epoch 84/100\n",
            "240/240 [==============================] - 0s 2ms/step - loss: 27.5805\n",
            "Epoch 85/100\n",
            "240/240 [==============================] - 0s 2ms/step - loss: 27.6649\n",
            "Epoch 86/100\n",
            "240/240 [==============================] - 0s 2ms/step - loss: 26.6414\n",
            "Epoch 87/100\n",
            "240/240 [==============================] - 0s 2ms/step - loss: 28.2118\n",
            "Epoch 88/100\n",
            "240/240 [==============================] - 0s 2ms/step - loss: 27.6744\n",
            "Epoch 89/100\n",
            "240/240 [==============================] - 0s 2ms/step - loss: 27.2074\n",
            "Epoch 90/100\n",
            "240/240 [==============================] - 0s 2ms/step - loss: 27.5701\n",
            "Epoch 91/100\n",
            "240/240 [==============================] - 1s 2ms/step - loss: 26.7857\n",
            "Epoch 92/100\n",
            "240/240 [==============================] - 0s 2ms/step - loss: 27.6485\n",
            "Epoch 93/100\n",
            "240/240 [==============================] - 1s 2ms/step - loss: 26.8164\n",
            "Epoch 94/100\n",
            "240/240 [==============================] - 0s 2ms/step - loss: 27.1798\n",
            "Epoch 95/100\n",
            "240/240 [==============================] - 1s 2ms/step - loss: 26.9304\n",
            "Epoch 96/100\n",
            "240/240 [==============================] - 0s 2ms/step - loss: 27.3747\n",
            "Epoch 97/100\n",
            "240/240 [==============================] - 0s 2ms/step - loss: 26.8702\n",
            "Epoch 98/100\n",
            "240/240 [==============================] - 0s 2ms/step - loss: 27.6001\n",
            "Epoch 99/100\n",
            "240/240 [==============================] - 0s 2ms/step - loss: 27.4833\n",
            "Epoch 100/100\n",
            "240/240 [==============================] - 0s 2ms/step - loss: 27.6756\n"
          ]
        },
        {
          "output_type": "execute_result",
          "data": {
            "text/plain": [
              "<keras.callbacks.History at 0x7fe1c81c71d0>"
            ]
          },
          "metadata": {},
          "execution_count": 21
        }
      ]
    },
    {
      "cell_type": "markdown",
      "metadata": {
        "id": "0H0zKKNEBLD5"
      },
      "source": [
        "### Predicting the results of the Test set"
      ]
    },
    {
      "cell_type": "code",
      "metadata": {
        "id": "IA0yApEmBG1X",
        "colab": {
          "base_uri": "https://localhost:8080/"
        },
        "outputId": "98a78cbb-edb5-4d76-cbc9-d773c7638fe7"
      },
      "source": [
        "y_pred = ann.predict(X_test)\n",
        "np.set_printoptions(precision=2)\n",
        "print(np.concatenate((y_pred.reshape(len(y_pred),1), y_test.reshape(len(y_test),1)),1))"
      ],
      "execution_count": 22,
      "outputs": [
        {
          "output_type": "stream",
          "name": "stdout",
          "text": [
            "[[437.57 440.58]\n",
            " [449.27 447.17]\n",
            " [464.75 464.01]\n",
            " ...\n",
            " [452.62 458.08]\n",
            " [480.66 475.42]\n",
            " [465.57 463.47]]\n"
          ]
        }
      ]
    }
  ]
}